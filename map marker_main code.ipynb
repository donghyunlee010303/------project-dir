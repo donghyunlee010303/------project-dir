{
 "cells": [
  {
   "cell_type": "code",
   "execution_count": 1,
   "id": "1fcfb919",
   "metadata": {},
   "outputs": [
    {
     "name": "stdout",
     "output_type": "stream",
     "text": [
      "Requirement already satisfied: python-dotenv in /opt/anaconda3/lib/python3.12/site-packages (0.21.0)\n"
     ]
    }
   ],
   "source": [
    "!pip install python-dotenv"
   ]
  },
  {
   "cell_type": "code",
   "execution_count": 2,
   "id": "7d46bb13",
   "metadata": {},
   "outputs": [],
   "source": [
    "import os\n",
    "from dotenv import load_dotenv\n",
    "import requests\n",
    "import re\n",
    "from urllib.parse import urlparse, parse_qs\n",
    "from bs4 import BeautifulSoup\n",
    "import json"
   ]
  },
  {
   "cell_type": "code",
   "execution_count": 3,
   "id": "245692a2",
   "metadata": {},
   "outputs": [],
   "source": [
    "# Load environment variables from .env file\n",
    "load_dotenv()\n",
    "\n",
    "# Access the environment variables\n",
    "NOTION_API_KEY = os.getenv('NOTION_API_KEY')\n",
    "DATABASE_ID = os.getenv('DATABASE_ID')\n",
    "KAKAOMAP_JS_KEY = os.getenv('KAKAOMAP_JS_KEY')\n",
    "KAKAOMAP_REST_API_KEY = os.getenv('KAKAOMAP_REST_API_KEY')\n",
    "NAVERMAP_CLIENT_ID = os.getenv('NAVERMAP_CLIENT_ID')\n",
    "NAVERMAP_CLIENT_SECRET = os.getenv('NAVERMAP_CLIENT_SECRET')"
   ]
  },
  {
   "cell_type": "code",
   "execution_count": 4,
   "id": "a4434fa3",
   "metadata": {},
   "outputs": [
    {
     "data": {
      "text/plain": [
       "'bb360233fcbd94bdd4c2e17923b7825f'"
      ]
     },
     "execution_count": 4,
     "metadata": {},
     "output_type": "execute_result"
    }
   ],
   "source": [
    "KAKAOMAP_JS_KEY"
   ]
  },
  {
   "cell_type": "markdown",
   "id": "6cdd7741",
   "metadata": {},
   "source": [
    "# 메인 코드\n",
    "\n",
    "### 노션 db에서 url을 가져오는 함수 정의\n",
    "얘를 반복문을 사용하여 리스트에 append하고, 이를 api 사용하여 html 스크립트에 마커로 표시하는 로직을 사용할 것"
   ]
  },
  {
   "cell_type": "code",
   "execution_count": 5,
   "id": "72d9e521",
   "metadata": {},
   "outputs": [],
   "source": [
    "# 노션 db에서 url을 가져오는 함수\n",
    "\n",
    "def get_notion_urls():\n",
    "    url = f\"https://api.notion.com/v1/databases/{DATABASE_ID}/query\"\n",
    "    headers = {\n",
    "        \"Authorization\": f\"Bearer {NOTION_API_KEY}\",\n",
    "        \"Notion-Version\": \"2022-06-28\",\n",
    "        \"Content-Type\": \"application/json\"\n",
    "    }\n",
    "    response = requests.post(url, headers=headers) \n",
    "    if response.status_code != 200:\n",
    "        print(f\"Error: {response.status_code}\")\n",
    "        print(response.text)\n",
    "        return None\n",
    "    data = response.json()\n",
    "    urls = []\n",
    "    for page in data['results']:\n",
    "        if 'URL' in page['properties']:\n",
    "            url = page['properties']['URL']['url']\n",
    "            if url and isinstance(url, str) and url.startswith(\"http\"):\n",
    "                urls.append(url)\n",
    "    return urls"
   ]
  },
  {
   "cell_type": "code",
   "execution_count": 6,
   "id": "f266923a",
   "metadata": {},
   "outputs": [
    {
     "data": {
      "text/plain": [
       "['https://naver.me/F6lTNb8g',\n",
       " 'https://g.co/kgs/tqM7M6D',\n",
       " 'https://naver.me/FdCxZlDe',\n",
       " 'https://naver.me/GUwSuJc5',\n",
       " 'https://map.naver.com/p/entry/place/375471903',\n",
       " 'https://kko.kakao.com/5nltEgC8Is',\n",
       " 'https://kko.kakao.com/Ne64SQfVep',\n",
       " 'https://kko.kakao.com/n5e7zujGNT',\n",
       " 'https://kko.kakao.com/Bbgs_3VV1A',\n",
       " 'https://kko.kakao.com/GiBVFfVaet',\n",
       " 'https://kko.kakao.com/4YfqAqW3Gh']"
      ]
     },
     "execution_count": 6,
     "metadata": {},
     "output_type": "execute_result"
    }
   ],
   "source": [
    "get_notion_urls()"
   ]
  },
  {
   "cell_type": "markdown",
   "id": "ef7ee968",
   "metadata": {},
   "source": [
    "### 단축 url -> (위도, 경도) 함수 정의"
   ]
  },
  {
   "cell_type": "code",
   "execution_count": 7,
   "id": "75bfeb29",
   "metadata": {},
   "outputs": [],
   "source": [
    "# 단축 url을 처리하는 함수\n",
    "# 여기에 실행 함수까지 같이 추가를 해야함 (위도경도 가져오기? 네이버/카카오 각각 별도로) -> 이후 다른 함수에서 위도경도를 사용하여 마커로 표시하도록\n",
    "\n",
    "def get_url_coords(link: str):\n",
    "    if 'kakao' in link:\n",
    "        try:\n",
    "            response = requests.get(link, allow_redirects=True, timeout=5)\n",
    "            link = response.url # 최종 redirection된 url로 교체\n",
    "        except requests.RequestException as e:\n",
    "            print(f\"Error fetching link: {e}\")\n",
    "            return None\n",
    "        \n",
    "        parsed_url = urlparse(link)\n",
    "        qs = parse_qs(parsed_url.query)\n",
    "        item_id = int(qs['itemId'][0])\n",
    "        # return item_id\n",
    "\n",
    "        url = f\"https://place.map.kakao.com/{item_id}\"\n",
    "        headers = {\n",
    "            'Referer': 'https://map.kakao.com/',\n",
    "            'User-Agent': 'Mozilla/5.0',\n",
    "        }\n",
    "\n",
    "        res = requests.get(url, headers=headers)\n",
    "        if res.status_code != 200:\n",
    "            raise Exception(f\"요청 실패: {res.status_code}\")\n",
    "\n",
    "        soup = BeautifulSoup(res.text, 'html.parser')\n",
    "        \n",
    "        # <meta property=\"og:image\" ...> 찾기\n",
    "        meta_tag = soup.find(\"meta\", {\"property\": \"og:image\"})\n",
    "        if not meta_tag or \"content\" not in meta_tag.attrs:\n",
    "            raise Exception(\"og:image 메타 태그를 찾을 수 없습니다.\")\n",
    "        \n",
    "        content_url = meta_tag[\"content\"]\n",
    "        \n",
    "        # 정규표현식으로 m=경도,위도 추출\n",
    "        match = re.search(r\"m=([0-9.]+)%2C([0-9.]+)\", content_url)\n",
    "        if not match:\n",
    "            raise Exception(\"좌표 정보(m=...)를 찾을 수 없습니다.\")\n",
    "        \n",
    "        lng, lat = map(float, match.groups())\n",
    "        \n",
    "        return (lat, lng)\n",
    "\n",
    "    elif 'naver' in link:\n",
    "        try:\n",
    "            response = requests.get(link, allow_redirects=True, timeout=5)\n",
    "            link = response.url # 최종 redirection된 url로 교체\n",
    "        except requests.RequestException as e:\n",
    "            print(f\"Error fetching link: {e}\")\n",
    "            return None\n",
    "        \n",
    "        item_id = re.search(r'place/(\\d+)', link)\n",
    "        item_id = item_id.group(1)\n",
    "        # return item_id\n",
    "\n",
    "        url = f\"https://map.naver.com/p/api/place/summary/{item_id}\"\n",
    "        headers = {\n",
    "        'Referer': 'https://map.naver.com/',\n",
    "        'User-Agent': 'Mozilla/5.0',\n",
    "        }\n",
    "\n",
    "        res = requests.get(url, headers=headers)\n",
    "        data = res.json()\n",
    "        #print(data)\n",
    "\n",
    "        lat = float(data['data']['nmapSummaryBusiness']['y'])  # 위도\n",
    "        lng = float(data['data']['nmapSummaryBusiness']['x'])  # 경도\n",
    "        \n",
    "        return (lat, lng)\n",
    "\n",
    "    else:\n",
    "        print(\"Unsupported URL type: \", link)\n",
    "        return None"
   ]
  },
  {
   "cell_type": "code",
   "execution_count": 9,
   "id": "d020c920",
   "metadata": {},
   "outputs": [
    {
     "data": {
      "text/plain": [
       "(35.8685331, 128.5733022)"
      ]
     },
     "execution_count": 9,
     "metadata": {},
     "output_type": "execute_result"
    }
   ],
   "source": [
    "get_url_coords(\"https://naver.me/xGI191mm\")"
   ]
  },
  {
   "cell_type": "markdown",
   "id": "53865dac",
   "metadata": {},
   "source": [
    "# 카카오맵 js에 위경도를 이용하여 마커로 표시하는 코드"
   ]
  },
  {
   "cell_type": "markdown",
   "id": "af89941d",
   "metadata": {},
   "source": [
    "위의 함수를 이용하여 json 파일 생성"
   ]
  },
  {
   "cell_type": "code",
   "execution_count": 11,
   "id": "fd69edf6",
   "metadata": {},
   "outputs": [
    {
     "name": "stdout",
     "output_type": "stream",
     "text": [
      "Coordinates already exist for URL: https://naver.me/F6lTNb8g\n",
      "Unsupported URL type:  https://g.co/kgs/tqM7M6D\n",
      "Failed to get coordinates for URL: https://g.co/kgs/tqM7M6D\n",
      "Coordinates already exist for URL: https://naver.me/FdCxZlDe\n",
      "Coordinates already exist for URL: https://naver.me/GUwSuJc5\n",
      "Coordinates already exist for URL: https://map.naver.com/p/entry/place/375471903\n",
      "Coordinates already exist for URL: https://kko.kakao.com/5nltEgC8Is\n",
      "Coordinates already exist for URL: https://kko.kakao.com/Ne64SQfVep\n",
      "Coordinates already exist for URL: https://kko.kakao.com/n5e7zujGNT\n",
      "Coordinates already exist for URL: https://kko.kakao.com/Bbgs_3VV1A\n",
      "Coordinates already exist for URL: https://kko.kakao.com/GiBVFfVaet\n",
      "Coordinates already exist for URL: https://kko.kakao.com/4YfqAqW3Gh\n",
      "Total markers added to json: 0\n"
     ]
    }
   ],
   "source": [
    "# 기존 markers.json 경로 설정\n",
    "json_path = os.path.join(os.path.dirname('/Users/donghyunlee/Desktop/대동여지도 project dir/'), \"markers.json\")\n",
    "\n",
    "# 기존 데이터 로딩 or 데이터가 없는 경우 초기화\n",
    "if os.path.exists(json_path):\n",
    "    with open(json_path, \"r\", encoding=\"utf-8\") as f:\n",
    "        try:\n",
    "            data = json.load(f)\n",
    "            if \"positions\" not in data:\n",
    "                data[\"positions\"] = []\n",
    "        except json.JSONDecodeError:\n",
    "            data = {\"positions\": []}\n",
    "else:\n",
    "    data = {\"positions\": []}\n",
    "\n",
    "# 기존 좌표를 (lat, lng) 튜플로 set 생성\n",
    "existing_set = {(p[\"lat\"], p[\"lng\"]) for p in data[\"positions\"]}\n",
    "\n",
    "# positions 리스트에 추가할 새 결과 저장용\n",
    "new_positions = []\n",
    "\n",
    "# 위도/경도 수집\n",
    "all_urls = get_notion_urls()  # 이건 리스트 형태로 리턴됨\n",
    "\n",
    "for url in all_urls:\n",
    "    try:\n",
    "        coords = get_url_coords(url)\n",
    "        if coords:\n",
    "            lat, lng = coords\n",
    "            if (lat, lng) not in existing_set:\n",
    "                new_positions.append({\"lat\": lat, \"lng\": lng})\n",
    "                existing_set.add((lat, lng)) # 중복 방지를 위해 set에도 추가\n",
    "                print(f\"URL: {url} -> Coordinates: {coords}\")\n",
    "            else:\n",
    "                print(f\"Coordinates already exist for URL: {url}\")\n",
    "        else:\n",
    "            print(f\"Failed to get coordinates for URL: {url}\")\n",
    "    except Exception as e:\n",
    "        print(f\"Error processing URL '{url}': {e}\")\n",
    "\n",
    "# 기존 데이터에 병합\n",
    "data[\"positions\"].extend(new_positions)\n",
    "\n",
    "# 한 번에 저장\n",
    "with open(json_path, \"w\", encoding=\"utf-8\") as f:\n",
    "    json.dump(data, f, ensure_ascii=False, indent=2)\n",
    "\n",
    "print(f\"Total markers added to json: {len(new_positions)}\")"
   ]
  },
  {
   "cell_type": "markdown",
   "id": "c1ae8348",
   "metadata": {},
   "source": [
    "마커 클러스터러 사용 -> json>html 파일 생성"
   ]
  }
 ],
 "metadata": {
  "kernelspec": {
   "display_name": "base",
   "language": "python",
   "name": "python3"
  },
  "language_info": {
   "codemirror_mode": {
    "name": "ipython",
    "version": 3
   },
   "file_extension": ".py",
   "mimetype": "text/x-python",
   "name": "python",
   "nbconvert_exporter": "python",
   "pygments_lexer": "ipython3",
   "version": "3.12.4"
  }
 },
 "nbformat": 4,
 "nbformat_minor": 5
}
